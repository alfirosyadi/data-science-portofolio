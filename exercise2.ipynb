{
  "metadata": {
    "language_info": {
      "codemirror_mode": {
        "name": "python",
        "version": 3
      },
      "file_extension": ".py",
      "mimetype": "text/x-python",
      "name": "python",
      "nbconvert_exporter": "python",
      "pygments_lexer": "ipython3",
      "version": "3.8"
    },
    "kernelspec": {
      "name": "python",
      "display_name": "Python (Pyodide)",
      "language": "python"
    }
  },
  "nbformat_minor": 4,
  "nbformat": 4,
  "cells": [
    {
      "cell_type": "code",
      "source": "import piplite\nawait piplite.install('seaborn')",
      "metadata": {
        "trusted": true
      },
      "execution_count": 1,
      "outputs": []
    },
    {
      "cell_type": "code",
      "source": "import numpy as np\nimport pandas as pd\nimport matplotlib.pyplot as plt\nimport statsmodels.api as sm\nimport seaborn as sns\nseaborn.set()",
      "metadata": {
        "trusted": true
      },
      "execution_count": 12,
      "outputs": []
    },
    {
      "cell_type": "code",
      "source": "#Load the data",
      "metadata": {
        "trusted": true
      },
      "execution_count": 3,
      "outputs": []
    },
    {
      "cell_type": "code",
      "source": "data = pd.read_csv('04 real estate price size year.csv')",
      "metadata": {
        "trusted": true
      },
      "execution_count": 4,
      "outputs": []
    },
    {
      "cell_type": "code",
      "source": "data",
      "metadata": {
        "trusted": true
      },
      "execution_count": 5,
      "outputs": [
        {
          "execution_count": 5,
          "output_type": "execute_result",
          "data": {
            "text/plain": "         price     size  year\n0   234314.144   643.09  2015\n1   228581.528   656.22  2009\n2   281626.336   487.29  2018\n3   401255.608  1504.75  2015\n4   458674.256  1275.46  2009\n..         ...      ...   ...\n95  252460.400   549.80  2009\n96  310522.592  1037.44  2009\n97  383635.568  1504.75  2006\n98  225145.248   648.29  2015\n99  274922.856   705.29  2006\n\n[100 rows x 3 columns]",
            "text/html": "<div>\n<style scoped>\n    .dataframe tbody tr th:only-of-type {\n        vertical-align: middle;\n    }\n\n    .dataframe tbody tr th {\n        vertical-align: top;\n    }\n\n    .dataframe thead th {\n        text-align: right;\n    }\n</style>\n<table border=\"1\" class=\"dataframe\">\n  <thead>\n    <tr style=\"text-align: right;\">\n      <th></th>\n      <th>price</th>\n      <th>size</th>\n      <th>year</th>\n    </tr>\n  </thead>\n  <tbody>\n    <tr>\n      <th>0</th>\n      <td>234314.144</td>\n      <td>643.09</td>\n      <td>2015</td>\n    </tr>\n    <tr>\n      <th>1</th>\n      <td>228581.528</td>\n      <td>656.22</td>\n      <td>2009</td>\n    </tr>\n    <tr>\n      <th>2</th>\n      <td>281626.336</td>\n      <td>487.29</td>\n      <td>2018</td>\n    </tr>\n    <tr>\n      <th>3</th>\n      <td>401255.608</td>\n      <td>1504.75</td>\n      <td>2015</td>\n    </tr>\n    <tr>\n      <th>4</th>\n      <td>458674.256</td>\n      <td>1275.46</td>\n      <td>2009</td>\n    </tr>\n    <tr>\n      <th>...</th>\n      <td>...</td>\n      <td>...</td>\n      <td>...</td>\n    </tr>\n    <tr>\n      <th>95</th>\n      <td>252460.400</td>\n      <td>549.80</td>\n      <td>2009</td>\n    </tr>\n    <tr>\n      <th>96</th>\n      <td>310522.592</td>\n      <td>1037.44</td>\n      <td>2009</td>\n    </tr>\n    <tr>\n      <th>97</th>\n      <td>383635.568</td>\n      <td>1504.75</td>\n      <td>2006</td>\n    </tr>\n    <tr>\n      <th>98</th>\n      <td>225145.248</td>\n      <td>648.29</td>\n      <td>2015</td>\n    </tr>\n    <tr>\n      <th>99</th>\n      <td>274922.856</td>\n      <td>705.29</td>\n      <td>2006</td>\n    </tr>\n  </tbody>\n</table>\n<p>100 rows × 3 columns</p>\n</div>"
          },
          "metadata": {}
        }
      ]
    },
    {
      "cell_type": "code",
      "source": "data.describe()",
      "metadata": {
        "trusted": true
      },
      "execution_count": 6,
      "outputs": [
        {
          "execution_count": 6,
          "output_type": "execute_result",
          "data": {
            "text/plain": "               price         size         year\ncount     100.000000   100.000000   100.000000\nmean   292289.470160   853.024200  2012.600000\nstd     77051.727525   297.941951     4.729021\nmin    154282.128000   479.750000  2006.000000\n25%    234280.148000   643.330000  2009.000000\n50%    280590.716000   696.405000  2015.000000\n75%    335723.696000  1029.322500  2018.000000\nmax    500681.128000  1842.510000  2018.000000",
            "text/html": "<div>\n<style scoped>\n    .dataframe tbody tr th:only-of-type {\n        vertical-align: middle;\n    }\n\n    .dataframe tbody tr th {\n        vertical-align: top;\n    }\n\n    .dataframe thead th {\n        text-align: right;\n    }\n</style>\n<table border=\"1\" class=\"dataframe\">\n  <thead>\n    <tr style=\"text-align: right;\">\n      <th></th>\n      <th>price</th>\n      <th>size</th>\n      <th>year</th>\n    </tr>\n  </thead>\n  <tbody>\n    <tr>\n      <th>count</th>\n      <td>100.000000</td>\n      <td>100.000000</td>\n      <td>100.000000</td>\n    </tr>\n    <tr>\n      <th>mean</th>\n      <td>292289.470160</td>\n      <td>853.024200</td>\n      <td>2012.600000</td>\n    </tr>\n    <tr>\n      <th>std</th>\n      <td>77051.727525</td>\n      <td>297.941951</td>\n      <td>4.729021</td>\n    </tr>\n    <tr>\n      <th>min</th>\n      <td>154282.128000</td>\n      <td>479.750000</td>\n      <td>2006.000000</td>\n    </tr>\n    <tr>\n      <th>25%</th>\n      <td>234280.148000</td>\n      <td>643.330000</td>\n      <td>2009.000000</td>\n    </tr>\n    <tr>\n      <th>50%</th>\n      <td>280590.716000</td>\n      <td>696.405000</td>\n      <td>2015.000000</td>\n    </tr>\n    <tr>\n      <th>75%</th>\n      <td>335723.696000</td>\n      <td>1029.322500</td>\n      <td>2018.000000</td>\n    </tr>\n    <tr>\n      <th>max</th>\n      <td>500681.128000</td>\n      <td>1842.510000</td>\n      <td>2018.000000</td>\n    </tr>\n  </tbody>\n</table>\n</div>"
          },
          "metadata": {}
        }
      ]
    },
    {
      "cell_type": "code",
      "source": "y = data['size']\nx1 = data[['price', 'year']]",
      "metadata": {
        "trusted": true
      },
      "execution_count": 14,
      "outputs": []
    },
    {
      "cell_type": "code",
      "source": "x = sm.add_constant(x1)",
      "metadata": {
        "trusted": true
      },
      "execution_count": 15,
      "outputs": []
    },
    {
      "cell_type": "code",
      "source": "results = sm.OLS(y,x).fit()",
      "metadata": {
        "trusted": true
      },
      "execution_count": 16,
      "outputs": []
    },
    {
      "cell_type": "code",
      "source": "results.summary()",
      "metadata": {
        "trusted": true
      },
      "execution_count": 17,
      "outputs": [
        {
          "execution_count": 17,
          "output_type": "execute_result",
          "data": {
            "text/plain": "<class 'statsmodels.iolib.summary.Summary'>\n\"\"\"\n                            OLS Regression Results                            \n==============================================================================\nDep. Variable:                   size   R-squared:                       0.777\nModel:                            OLS   Adj. R-squared:                  0.772\nMethod:                 Least Squares   F-statistic:                     168.7\nDate:                Thu, 09 Nov 2023   Prob (F-statistic):           2.65e-32\nTime:                        20:52:34   Log-Likelihood:                -636.12\nNo. Observations:                 100   AIC:                             1278.\nDf Residuals:                      97   BIC:                             1286.\nDf Model:                           2                                         \nCovariance Type:            nonrobust                                         \n==============================================================================\n                 coef    std err          t      P>|t|      [0.025      0.975]\n------------------------------------------------------------------------------\nconst       2.262e+04   6105.763      3.705      0.000    1.05e+04    3.47e+04\nprice          0.0034      0.000     18.254      0.000       0.003       0.004\nyear         -11.3091      3.036     -3.725      0.000     -17.335      -5.283\n==============================================================================\nOmnibus:                        2.182   Durbin-Watson:                   2.131\nProb(Omnibus):                  0.336   Jarque-Bera (JB):                2.157\nSkew:                           0.299   Prob(JB):                        0.340\nKurtosis:                       2.600   Cond. No.                     1.30e+08\n==============================================================================\n\nNotes:\n[1] Standard Errors assume that the covariance matrix of the errors is correctly specified.\n[2] The condition number is large, 1.3e+08. This might indicate that there are\nstrong multicollinearity or other numerical problems.\n\"\"\"",
            "text/html": "<table class=\"simpletable\">\n<caption>OLS Regression Results</caption>\n<tr>\n  <th>Dep. Variable:</th>          <td>size</td>       <th>  R-squared:         </th> <td>   0.777</td>\n</tr>\n<tr>\n  <th>Model:</th>                   <td>OLS</td>       <th>  Adj. R-squared:    </th> <td>   0.772</td>\n</tr>\n<tr>\n  <th>Method:</th>             <td>Least Squares</td>  <th>  F-statistic:       </th> <td>   168.7</td>\n</tr>\n<tr>\n  <th>Date:</th>             <td>Thu, 09 Nov 2023</td> <th>  Prob (F-statistic):</th> <td>2.65e-32</td>\n</tr>\n<tr>\n  <th>Time:</th>                 <td>20:52:34</td>     <th>  Log-Likelihood:    </th> <td> -636.12</td>\n</tr>\n<tr>\n  <th>No. Observations:</th>      <td>   100</td>      <th>  AIC:               </th> <td>   1278.</td>\n</tr>\n<tr>\n  <th>Df Residuals:</th>          <td>    97</td>      <th>  BIC:               </th> <td>   1286.</td>\n</tr>\n<tr>\n  <th>Df Model:</th>              <td>     2</td>      <th>                     </th>     <td> </td>   \n</tr>\n<tr>\n  <th>Covariance Type:</th>      <td>nonrobust</td>    <th>                     </th>     <td> </td>   \n</tr>\n</table>\n<table class=\"simpletable\">\n<tr>\n    <td></td>       <th>coef</th>     <th>std err</th>      <th>t</th>      <th>P>|t|</th>  <th>[0.025</th>    <th>0.975]</th>  \n</tr>\n<tr>\n  <th>const</th> <td> 2.262e+04</td> <td> 6105.763</td> <td>    3.705</td> <td> 0.000</td> <td> 1.05e+04</td> <td> 3.47e+04</td>\n</tr>\n<tr>\n  <th>price</th> <td>    0.0034</td> <td>    0.000</td> <td>   18.254</td> <td> 0.000</td> <td>    0.003</td> <td>    0.004</td>\n</tr>\n<tr>\n  <th>year</th>  <td>  -11.3091</td> <td>    3.036</td> <td>   -3.725</td> <td> 0.000</td> <td>  -17.335</td> <td>   -5.283</td>\n</tr>\n</table>\n<table class=\"simpletable\">\n<tr>\n  <th>Omnibus:</th>       <td> 2.182</td> <th>  Durbin-Watson:     </th> <td>   2.131</td>\n</tr>\n<tr>\n  <th>Prob(Omnibus):</th> <td> 0.336</td> <th>  Jarque-Bera (JB):  </th> <td>   2.157</td>\n</tr>\n<tr>\n  <th>Skew:</th>          <td> 0.299</td> <th>  Prob(JB):          </th> <td>   0.340</td>\n</tr>\n<tr>\n  <th>Kurtosis:</th>      <td> 2.600</td> <th>  Cond. No.          </th> <td>1.30e+08</td>\n</tr>\n</table><br/><br/>Notes:<br/>[1] Standard Errors assume that the covariance matrix of the errors is correctly specified.<br/>[2] The condition number is large, 1.3e+08. This might indicate that there are<br/>strong multicollinearity or other numerical problems.",
            "text/latex": "\\begin{center}\n\\begin{tabular}{lclc}\n\\toprule\n\\textbf{Dep. Variable:}    &       size       & \\textbf{  R-squared:         } &     0.777   \\\\\n\\textbf{Model:}            &       OLS        & \\textbf{  Adj. R-squared:    } &     0.772   \\\\\n\\textbf{Method:}           &  Least Squares   & \\textbf{  F-statistic:       } &     168.7   \\\\\n\\textbf{Date:}             & Thu, 09 Nov 2023 & \\textbf{  Prob (F-statistic):} &  2.65e-32   \\\\\n\\textbf{Time:}             &     20:52:34     & \\textbf{  Log-Likelihood:    } &   -636.12   \\\\\n\\textbf{No. Observations:} &         100      & \\textbf{  AIC:               } &     1278.   \\\\\n\\textbf{Df Residuals:}     &          97      & \\textbf{  BIC:               } &     1286.   \\\\\n\\textbf{Df Model:}         &           2      & \\textbf{                     } &             \\\\\n\\textbf{Covariance Type:}  &    nonrobust     & \\textbf{                     } &             \\\\\n\\bottomrule\n\\end{tabular}\n\\begin{tabular}{lcccccc}\n               & \\textbf{coef} & \\textbf{std err} & \\textbf{t} & \\textbf{P$> |$t$|$} & \\textbf{[0.025} & \\textbf{0.975]}  \\\\\n\\midrule\n\\textbf{const} &    2.262e+04  &     6105.763     &     3.705  &         0.000        &     1.05e+04    &     3.47e+04     \\\\\n\\textbf{price} &       0.0034  &        0.000     &    18.254  &         0.000        &        0.003    &        0.004     \\\\\n\\textbf{year}  &     -11.3091  &        3.036     &    -3.725  &         0.000        &      -17.335    &       -5.283     \\\\\n\\bottomrule\n\\end{tabular}\n\\begin{tabular}{lclc}\n\\textbf{Omnibus:}       &  2.182 & \\textbf{  Durbin-Watson:     } &    2.131  \\\\\n\\textbf{Prob(Omnibus):} &  0.336 & \\textbf{  Jarque-Bera (JB):  } &    2.157  \\\\\n\\textbf{Skew:}          &  0.299 & \\textbf{  Prob(JB):          } &    0.340  \\\\\n\\textbf{Kurtosis:}      &  2.600 & \\textbf{  Cond. No.          } & 1.30e+08  \\\\\n\\bottomrule\n\\end{tabular}\n%\\caption{OLS Regression Results}\n\\end{center}\n\nNotes: \\newline\n [1] Standard Errors assume that the covariance matrix of the errors is correctly specified. \\newline\n [2] The condition number is large, 1.3e+08. This might indicate that there are \\newline\n strong multicollinearity or other numerical problems."
          },
          "metadata": {}
        }
      ]
    },
    {
      "cell_type": "code",
      "source": "",
      "metadata": {},
      "execution_count": null,
      "outputs": []
    }
  ]
}