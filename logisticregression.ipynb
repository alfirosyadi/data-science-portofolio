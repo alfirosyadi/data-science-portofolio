{
  "metadata": {
    "language_info": {
      "codemirror_mode": {
        "name": "python",
        "version": 3
      },
      "file_extension": ".py",
      "mimetype": "text/x-python",
      "name": "python",
      "nbconvert_exporter": "python",
      "pygments_lexer": "ipython3",
      "version": "3.8"
    },
    "kernelspec": {
      "name": "python",
      "display_name": "Python (Pyodide)",
      "language": "python"
    }
  },
  "nbformat_minor": 4,
  "nbformat": 4,
  "cells": [
    {
      "cell_type": "code",
      "source": "import piplite\nawait piplite.install('seaborn')",
      "metadata": {
        "trusted": true
      },
      "execution_count": 1,
      "outputs": []
    },
    {
      "cell_type": "code",
      "source": "import numpy as np\nimport pandas as pd\nimport statsmodels.api as sm\nimport matplotlib.pyplot as plt\nimport seaborn as sns\nsns.set()",
      "metadata": {
        "trusted": true
      },
      "execution_count": 2,
      "outputs": []
    },
    {
      "cell_type": "code",
      "source": "raw_data = pd.read_csv('13 Admittance.csv')",
      "metadata": {
        "trusted": true
      },
      "execution_count": 4,
      "outputs": []
    },
    {
      "cell_type": "code",
      "source": "raw_data.head()",
      "metadata": {
        "trusted": true
      },
      "execution_count": 5,
      "outputs": [
        {
          "execution_count": 5,
          "output_type": "execute_result",
          "data": {
            "text/plain": "    SAT Admitted\n0  1363       No\n1  1792      Yes\n2  1954      Yes\n3  1653       No\n4  1593       No",
            "text/html": "<div>\n<style scoped>\n    .dataframe tbody tr th:only-of-type {\n        vertical-align: middle;\n    }\n\n    .dataframe tbody tr th {\n        vertical-align: top;\n    }\n\n    .dataframe thead th {\n        text-align: right;\n    }\n</style>\n<table border=\"1\" class=\"dataframe\">\n  <thead>\n    <tr style=\"text-align: right;\">\n      <th></th>\n      <th>SAT</th>\n      <th>Admitted</th>\n    </tr>\n  </thead>\n  <tbody>\n    <tr>\n      <th>0</th>\n      <td>1363</td>\n      <td>No</td>\n    </tr>\n    <tr>\n      <th>1</th>\n      <td>1792</td>\n      <td>Yes</td>\n    </tr>\n    <tr>\n      <th>2</th>\n      <td>1954</td>\n      <td>Yes</td>\n    </tr>\n    <tr>\n      <th>3</th>\n      <td>1653</td>\n      <td>No</td>\n    </tr>\n    <tr>\n      <th>4</th>\n      <td>1593</td>\n      <td>No</td>\n    </tr>\n  </tbody>\n</table>\n</div>"
          },
          "metadata": {}
        }
      ]
    },
    {
      "cell_type": "code",
      "source": "data = raw_data.copy()\ndata['Admitted'] = data['Admitted'].map({'Yes':1, 'No':0})",
      "metadata": {
        "trusted": true
      },
      "execution_count": 6,
      "outputs": []
    },
    {
      "cell_type": "code",
      "source": "data.head()",
      "metadata": {
        "trusted": true
      },
      "execution_count": 7,
      "outputs": [
        {
          "execution_count": 7,
          "output_type": "execute_result",
          "data": {
            "text/plain": "    SAT  Admitted\n0  1363         0\n1  1792         1\n2  1954         1\n3  1653         0\n4  1593         0",
            "text/html": "<div>\n<style scoped>\n    .dataframe tbody tr th:only-of-type {\n        vertical-align: middle;\n    }\n\n    .dataframe tbody tr th {\n        vertical-align: top;\n    }\n\n    .dataframe thead th {\n        text-align: right;\n    }\n</style>\n<table border=\"1\" class=\"dataframe\">\n  <thead>\n    <tr style=\"text-align: right;\">\n      <th></th>\n      <th>SAT</th>\n      <th>Admitted</th>\n    </tr>\n  </thead>\n  <tbody>\n    <tr>\n      <th>0</th>\n      <td>1363</td>\n      <td>0</td>\n    </tr>\n    <tr>\n      <th>1</th>\n      <td>1792</td>\n      <td>1</td>\n    </tr>\n    <tr>\n      <th>2</th>\n      <td>1954</td>\n      <td>1</td>\n    </tr>\n    <tr>\n      <th>3</th>\n      <td>1653</td>\n      <td>0</td>\n    </tr>\n    <tr>\n      <th>4</th>\n      <td>1593</td>\n      <td>0</td>\n    </tr>\n  </tbody>\n</table>\n</div>"
          },
          "metadata": {}
        }
      ]
    },
    {
      "cell_type": "code",
      "source": "y = data['Admitted']\nx1 = data['SAT']",
      "metadata": {
        "trusted": true
      },
      "execution_count": 9,
      "outputs": []
    },
    {
      "cell_type": "code",
      "source": "plt.scatter(x1, y)\nplt.xlabel('SAT')\nplt.ylabel('Admitted')\nplt.show",
      "metadata": {
        "trusted": true
      },
      "execution_count": 11,
      "outputs": [
        {
          "execution_count": 11,
          "output_type": "execute_result",
          "data": {
            "text/plain": "<function matplotlib.pyplot.show(close=None, block=None)>"
          },
          "metadata": {}
        },
        {
          "output_type": "display_data",
          "data": {
            "text/plain": "<Figure size 640x480 with 1 Axes>",
            "image/png": "[encoded data removed]"
          },
          "metadata": {}
        }
      ]
    },
    {
      "cell_type": "code",
      "source": "#Plot with logistic regression curve",
      "metadata": {
        "trusted": true
      },
      "execution_count": 12,
      "outputs": []
    },
    {
      "cell_type": "code",
      "source": "x = sm.add_constant(x1)\nreg_log = sm.Logit(y,x)\nresults_log = reg_log.fit()",
      "metadata": {
        "trusted": true
      },
      "execution_count": 16,
      "outputs": [
        {
          "name": "stdout",
          "text": "Optimization terminated successfully.\n         Current function value: 0.137766\n         Iterations 10\n",
          "output_type": "stream"
        }
      ]
    },
    {
      "cell_type": "code",
      "source": "results_log.summary()",
      "metadata": {
        "trusted": true
      },
      "execution_count": 17,
      "outputs": [
        {
          "execution_count": 17,
          "output_type": "execute_result",
          "data": {
            "text/plain": "<class 'statsmodels.iolib.summary.Summary'>\n\"\"\"\n                           Logit Regression Results                           \n==============================================================================\nDep. Variable:               Admitted   No. Observations:                  168\nModel:                          Logit   Df Residuals:                      166\nMethod:                           MLE   Df Model:                            1\nDate:                Thu, 16 Nov 2023   Pseudo R-squ.:                  0.7992\nTime:                        14:26:23   Log-Likelihood:                -23.145\nconverged:                       True   LL-Null:                       -115.26\nCovariance Type:            nonrobust   LLR p-value:                 5.805e-42\n==============================================================================\n                 coef    std err          z      P>|z|      [0.025      0.975]\n------------------------------------------------------------------------------\nconst        -69.9128     15.737     -4.443      0.000    -100.756     -39.070\nSAT            0.0420      0.009      4.454      0.000       0.024       0.060\n==============================================================================\n\nPossibly complete quasi-separation: A fraction 0.27 of observations can be\nperfectly predicted. This might indicate that there is complete\nquasi-separation. In this case some parameters will not be identified.\n\"\"\"",
            "text/html": "<table class=\"simpletable\">\n<caption>Logit Regression Results</caption>\n<tr>\n  <th>Dep. Variable:</th>       <td>Admitted</td>     <th>  No. Observations:  </th>  <td>   168</td>  \n</tr>\n<tr>\n  <th>Model:</th>                 <td>Logit</td>      <th>  Df Residuals:      </th>  <td>   166</td>  \n</tr>\n<tr>\n  <th>Method:</th>                 <td>MLE</td>       <th>  Df Model:          </th>  <td>     1</td>  \n</tr>\n<tr>\n  <th>Date:</th>            <td>Thu, 16 Nov 2023</td> <th>  Pseudo R-squ.:     </th>  <td>0.7992</td>  \n</tr>\n<tr>\n  <th>Time:</th>                <td>14:26:23</td>     <th>  Log-Likelihood:    </th> <td> -23.145</td> \n</tr>\n<tr>\n  <th>converged:</th>             <td>True</td>       <th>  LL-Null:           </th> <td> -115.26</td> \n</tr>\n<tr>\n  <th>Covariance Type:</th>     <td>nonrobust</td>    <th>  LLR p-value:       </th> <td>5.805e-42</td>\n</tr>\n</table>\n<table class=\"simpletable\">\n<tr>\n    <td></td>       <th>coef</th>     <th>std err</th>      <th>z</th>      <th>P>|z|</th>  <th>[0.025</th>    <th>0.975]</th>  \n</tr>\n<tr>\n  <th>const</th> <td>  -69.9128</td> <td>   15.737</td> <td>   -4.443</td> <td> 0.000</td> <td> -100.756</td> <td>  -39.070</td>\n</tr>\n<tr>\n  <th>SAT</th>   <td>    0.0420</td> <td>    0.009</td> <td>    4.454</td> <td> 0.000</td> <td>    0.024</td> <td>    0.060</td>\n</tr>\n</table><br/><br/>Possibly complete quasi-separation: A fraction 0.27 of observations can be<br/>perfectly predicted. This might indicate that there is complete<br/>quasi-separation. In this case some parameters will not be identified.",
            "text/latex": "\\begin{center}\n\\begin{tabular}{lclc}\n\\toprule\n\\textbf{Dep. Variable:}   &     Admitted     & \\textbf{  No. Observations:  } &      168    \\\\\n\\textbf{Model:}           &      Logit       & \\textbf{  Df Residuals:      } &      166    \\\\\n\\textbf{Method:}          &       MLE        & \\textbf{  Df Model:          } &        1    \\\\\n\\textbf{Date:}            & Thu, 16 Nov 2023 & \\textbf{  Pseudo R-squ.:     } &   0.7992    \\\\\n\\textbf{Time:}            &     14:26:23     & \\textbf{  Log-Likelihood:    } &   -23.145   \\\\\n\\textbf{converged:}       &       True       & \\textbf{  LL-Null:           } &   -115.26   \\\\\n\\textbf{Covariance Type:} &    nonrobust     & \\textbf{  LLR p-value:       } & 5.805e-42   \\\\\n\\bottomrule\n\\end{tabular}\n\\begin{tabular}{lcccccc}\n               & \\textbf{coef} & \\textbf{std err} & \\textbf{z} & \\textbf{P$> |$z$|$} & \\textbf{[0.025} & \\textbf{0.975]}  \\\\\n\\midrule\n\\textbf{const} &     -69.9128  &       15.737     &    -4.443  &         0.000        &     -100.756    &      -39.070     \\\\\n\\textbf{SAT}   &       0.0420  &        0.009     &     4.454  &         0.000        &        0.024    &        0.060     \\\\\n\\bottomrule\n\\end{tabular}\n%\\caption{Logit Regression Results}\n\\end{center}\n\nPossibly complete quasi-separation: A fraction 0.27 of observations can be \\newline\n perfectly predicted. This might indicate that there is complete \\newline\n quasi-separation. In this case some parameters will not be identified."
          },
          "metadata": {}
        }
      ]
    },
    {
      "cell_type": "code",
      "source": "",
      "metadata": {},
      "execution_count": null,
      "outputs": []
    }
  ]
}