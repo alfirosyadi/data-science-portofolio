{
  "metadata": {
    "language_info": {
      "codemirror_mode": {
        "name": "python",
        "version": 3
      },
      "file_extension": ".py",
      "mimetype": "text/x-python",
      "name": "python",
      "nbconvert_exporter": "python",
      "pygments_lexer": "ipython3",
      "version": "3.8"
    },
    "kernelspec": {
      "name": "python",
      "display_name": "Python (Pyodide)",
      "language": "python"
    }
  },
  "nbformat_minor": 4,
  "nbformat": 4,
  "cells": [
    {
      "cell_type": "code",
      "source": "#Import relevant library",
      "metadata": {
        "trusted": true
      },
      "execution_count": 1,
      "outputs": []
    },
    {
      "cell_type": "code",
      "source": "import piplite\nawait piplite.install('seaborn')",
      "metadata": {
        "trusted": true
      },
      "execution_count": 2,
      "outputs": []
    },
    {
      "cell_type": "code",
      "source": "import numpy as np\nimport matplotlib.pyplot as plt\nfrom mpl_toolkits.mplot3d import Axes3D",
      "metadata": {
        "trusted": true
      },
      "execution_count": 3,
      "outputs": []
    },
    {
      "cell_type": "code",
      "source": "#Generate random input data to train",
      "metadata": {
        "trusted": true
      },
      "execution_count": 4,
      "outputs": []
    },
    {
      "cell_type": "code",
      "source": "observations = 1000\n\nxs = np.random.uniform(low=-10,high=10, size=(observations,1))\nzs = np.random.uniform(-10,10,(observations,1))\n\ninputs = np.column_stack((xs,zs))\n\ninputs.shape",
      "metadata": {
        "trusted": true
      },
      "execution_count": 5,
      "outputs": [
        {
          "execution_count": 5,
          "output_type": "execute_result",
          "data": {
            "text/plain": "(1000, 2)"
          },
          "metadata": {}
        }
      ]
    },
    {
      "cell_type": "code",
      "source": "#Create the target we will aim at\n#  targets = f(x,z) = 2*x - 3*z + 5 + noise",
      "metadata": {
        "trusted": true
      },
      "execution_count": 6,
      "outputs": []
    },
    {
      "cell_type": "code",
      "source": "noise = np.random.uniform(-1,1,(observations,1))\n\ntargets = 2*xs - 3*zs + 5 + noise",
      "metadata": {
        "trusted": true
      },
      "execution_count": 7,
      "outputs": []
    },
    {
      "cell_type": "code",
      "source": "targets.shape",
      "metadata": {
        "trusted": true
      },
      "execution_count": 8,
      "outputs": [
        {
          "execution_count": 8,
          "output_type": "execute_result",
          "data": {
            "text/plain": "(1000, 1)"
          },
          "metadata": {}
        }
      ]
    },
    {
      "cell_type": "code",
      "source": "#Plot the data",
      "metadata": {
        "trusted": true
      },
      "execution_count": 9,
      "outputs": []
    },
    {
      "cell_type": "code",
      "source": "#initialize variables",
      "metadata": {
        "trusted": true
      },
      "execution_count": 10,
      "outputs": []
    },
    {
      "cell_type": "code",
      "source": "init_range = 0.1\n\nweights = np.random.uniform(-init_range, init_range, size=(2,1))\n\nbiases = np.random.uniform(-init_range, init_range, size=1)\n\nweights",
      "metadata": {
        "trusted": true
      },
      "execution_count": 11,
      "outputs": [
        {
          "execution_count": 11,
          "output_type": "execute_result",
          "data": {
            "text/plain": "array([[-0.09005064],\n       [ 0.01068417]])"
          },
          "metadata": {}
        }
      ]
    },
    {
      "cell_type": "code",
      "source": "biases",
      "metadata": {
        "trusted": true
      },
      "execution_count": 12,
      "outputs": [
        {
          "execution_count": 12,
          "output_type": "execute_result",
          "data": {
            "text/plain": "array([-0.02706671])"
          },
          "metadata": {}
        }
      ]
    },
    {
      "cell_type": "code",
      "source": "#Desain learning rate",
      "metadata": {
        "trusted": true
      },
      "execution_count": 13,
      "outputs": []
    },
    {
      "cell_type": "code",
      "source": "learning_rate = 0.02",
      "metadata": {
        "trusted": true
      },
      "execution_count": 14,
      "outputs": []
    },
    {
      "cell_type": "code",
      "source": "#Train the model",
      "metadata": {
        "trusted": true
      },
      "execution_count": 15,
      "outputs": []
    },
    {
      "cell_type": "code",
      "source": "for i in range(100):\n    outputs = np.dot(inputs,weights) + biases\n    deltas = outputs - targets\n    \n    loss = np.sum(deltas ** 2) / 2 / observations\n    \n    print (loss)\n    \n    deltas_scaled = deltas / observations\n    \n    weights = weights - learning_rate * np.dot(inputs.T, deltas_scaled)\n    biases = biases - learning_rate * np.sum(deltas_scaled)",
      "metadata": {
        "trusted": true
      },
      "execution_count": 16,
      "outputs": [
        {
          "name": "stdout",
          "text": "222.61575229631808\n42.034849106320124\n15.9925418635006\n11.900278609448389\n10.942680132965483\n10.445750784347325\n10.028649949750172\n9.636625861257773\n9.261342627569139\n8.901092030734485\n8.555130018342137\n8.222869648486238\n7.90376539586006\n7.597295923381963\n7.302960904586445\n7.020279875583647\n6.748791403591075\n6.488052326998089\n6.237637031018426\n5.997136752805962\n5.76615891419545\n5.544326480878806\n5.331277346956631\n5.126663743858295\n4.930151672665478\n4.7414203589124435\n4.56016172897313\n4.386079907180329\n4.218890732856072\n4.058321296464848\n3.9041094941325354\n3.756003599803815\n3.613761854339739\n3.4771520708846593\n3.3459512558584037\n3.2199452449549932\n3.0989283535537195\n2.9827030409719764\n2.8710795880117446\n2.7638757872733963\n2.660916645731321\n2.5620340990858574\n2.467066737425248\n2.37585954174982\n2.2882636309283244\n2.204136018673332\n2.1233393801390403\n2.0457418277604713\n1.971216695968148\n1.899642334426851\n1.8309019094609504\n1.7648832133421415\n1.701478481128314\n1.6405842147545509\n1.5821010140891285\n1.5259334146787196\n1.4719897319179818\n1.4201819113891287\n1.3704253851271975\n1.322638933576402\n1.2767445530122274\n1.232667328212843\n1.1903353101720109\n1.1496793986538612\n1.1106332293978325\n1.0731330657896478\n1.0371176948215106\n1.0025283271716716\n0.9693085012402891\n0.9374039909849111\n0.906762717405149\n0.8773346635320596\n0.8490717927834542\n0.8219279705518776\n0.7958588888972583\n0.7708219942212853\n0.7467764178054926\n0.7236829090996142\n0.7015037716513552\n0.6802028015729727\n0.659745228444233\n0.6400976585552685\n0.6212280203967028\n0.6031055123080459\n0.5857005521989231\n0.5689847292610484\n0.5529307575921399\n0.5375124316560482\n0.5227045835064259\n0.5084830417040835\n0.4948245918609877\n0.4817069387464977\n0.46910866989397015\n0.4570092206483365\n0.4453888405976079\n0.4342285613334817\n0.4235101654884629\n0.41321615699892406\n0.4033297325455933\n0.39383475412481905\n",
          "output_type": "stream"
        }
      ]
    },
    {
      "cell_type": "code",
      "source": "weights",
      "metadata": {
        "trusted": true
      },
      "execution_count": 23,
      "outputs": [
        {
          "execution_count": 23,
          "output_type": "execute_result",
          "data": {
            "text/plain": "array([[ 2.00331924],\n       [-3.0016926 ]])"
          },
          "metadata": {}
        }
      ]
    },
    {
      "cell_type": "code",
      "source": "biases",
      "metadata": {
        "trusted": true
      },
      "execution_count": 24,
      "outputs": [
        {
          "execution_count": 24,
          "output_type": "execute_result",
          "data": {
            "text/plain": "array([4.32361686])"
          },
          "metadata": {}
        }
      ]
    },
    {
      "cell_type": "code",
      "source": "",
      "metadata": {},
      "execution_count": null,
      "outputs": []
    }
  ]
}